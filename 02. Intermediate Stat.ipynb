{
 "cells": [
  {
   "cell_type": "markdown",
   "id": "ab512371-317e-44d0-96a1-823b2311f919",
   "metadata": {},
   "source": [
    "## Intermediate Stat"
   ]
  },
  {
   "cell_type": "markdown",
   "id": "4d9cb0d9-e35c-4358-b9b9-4b9bd39b7fbb",
   "metadata": {},
   "source": [
    "#### Normal Distribution / Gaussian Distribution"
   ]
  },
  {
   "cell_type": "code",
   "execution_count": 1,
   "id": "813498f7-beef-4a8d-9c06-fb86dcf8a069",
   "metadata": {},
   "outputs": [],
   "source": [
    "# Libraires\n",
    "\n",
    "import pandas as pd\n",
    "import scipy.stats as st\n",
    "import math as m\n",
    "import statsmodels.stats.api as sm"
   ]
  },
  {
   "cell_type": "code",
   "execution_count": 2,
   "id": "b1245e24-321b-49c0-9eb7-828eadaed993",
   "metadata": {},
   "outputs": [
    {
     "data": {
      "text/html": [
       "<div>\n",
       "<style scoped>\n",
       "    .dataframe tbody tr th:only-of-type {\n",
       "        vertical-align: middle;\n",
       "    }\n",
       "\n",
       "    .dataframe tbody tr th {\n",
       "        vertical-align: top;\n",
       "    }\n",
       "\n",
       "    .dataframe thead th {\n",
       "        text-align: right;\n",
       "    }\n",
       "</style>\n",
       "<table border=\"1\" class=\"dataframe\">\n",
       "  <thead>\n",
       "    <tr style=\"text-align: right;\">\n",
       "      <th></th>\n",
       "      <th>fixed acidity</th>\n",
       "      <th>volatile acidity</th>\n",
       "      <th>citric acid</th>\n",
       "      <th>residual sugar</th>\n",
       "      <th>chlorides</th>\n",
       "      <th>free sulfur dioxide</th>\n",
       "      <th>total sulfur dioxide</th>\n",
       "      <th>density</th>\n",
       "      <th>pH</th>\n",
       "      <th>sulphates</th>\n",
       "      <th>alcohol</th>\n",
       "      <th>quality</th>\n",
       "    </tr>\n",
       "  </thead>\n",
       "  <tbody>\n",
       "    <tr>\n",
       "      <th>0</th>\n",
       "      <td>7.4</td>\n",
       "      <td>0.70</td>\n",
       "      <td>0.00</td>\n",
       "      <td>1.9</td>\n",
       "      <td>0.076</td>\n",
       "      <td>11.0</td>\n",
       "      <td>34.0</td>\n",
       "      <td>0.9978</td>\n",
       "      <td>3.51</td>\n",
       "      <td>0.56</td>\n",
       "      <td>9.4</td>\n",
       "      <td>5</td>\n",
       "    </tr>\n",
       "    <tr>\n",
       "      <th>1</th>\n",
       "      <td>7.8</td>\n",
       "      <td>0.88</td>\n",
       "      <td>0.00</td>\n",
       "      <td>2.6</td>\n",
       "      <td>0.098</td>\n",
       "      <td>25.0</td>\n",
       "      <td>67.0</td>\n",
       "      <td>0.9968</td>\n",
       "      <td>3.20</td>\n",
       "      <td>0.68</td>\n",
       "      <td>9.8</td>\n",
       "      <td>5</td>\n",
       "    </tr>\n",
       "    <tr>\n",
       "      <th>2</th>\n",
       "      <td>7.8</td>\n",
       "      <td>0.76</td>\n",
       "      <td>0.04</td>\n",
       "      <td>2.3</td>\n",
       "      <td>0.092</td>\n",
       "      <td>15.0</td>\n",
       "      <td>54.0</td>\n",
       "      <td>0.9970</td>\n",
       "      <td>3.26</td>\n",
       "      <td>0.65</td>\n",
       "      <td>9.8</td>\n",
       "      <td>5</td>\n",
       "    </tr>\n",
       "    <tr>\n",
       "      <th>3</th>\n",
       "      <td>11.2</td>\n",
       "      <td>0.28</td>\n",
       "      <td>0.56</td>\n",
       "      <td>1.9</td>\n",
       "      <td>0.075</td>\n",
       "      <td>17.0</td>\n",
       "      <td>60.0</td>\n",
       "      <td>0.9980</td>\n",
       "      <td>3.16</td>\n",
       "      <td>0.58</td>\n",
       "      <td>9.8</td>\n",
       "      <td>6</td>\n",
       "    </tr>\n",
       "    <tr>\n",
       "      <th>4</th>\n",
       "      <td>7.4</td>\n",
       "      <td>0.70</td>\n",
       "      <td>0.00</td>\n",
       "      <td>1.9</td>\n",
       "      <td>0.076</td>\n",
       "      <td>11.0</td>\n",
       "      <td>34.0</td>\n",
       "      <td>0.9978</td>\n",
       "      <td>3.51</td>\n",
       "      <td>0.56</td>\n",
       "      <td>9.4</td>\n",
       "      <td>5</td>\n",
       "    </tr>\n",
       "  </tbody>\n",
       "</table>\n",
       "</div>"
      ],
      "text/plain": [
       "   fixed acidity  volatile acidity  citric acid  residual sugar  chlorides   \n",
       "0            7.4              0.70         0.00             1.9      0.076  \\\n",
       "1            7.8              0.88         0.00             2.6      0.098   \n",
       "2            7.8              0.76         0.04             2.3      0.092   \n",
       "3           11.2              0.28         0.56             1.9      0.075   \n",
       "4            7.4              0.70         0.00             1.9      0.076   \n",
       "\n",
       "   free sulfur dioxide  total sulfur dioxide  density    pH  sulphates   \n",
       "0                 11.0                  34.0   0.9978  3.51       0.56  \\\n",
       "1                 25.0                  67.0   0.9968  3.20       0.68   \n",
       "2                 15.0                  54.0   0.9970  3.26       0.65   \n",
       "3                 17.0                  60.0   0.9980  3.16       0.58   \n",
       "4                 11.0                  34.0   0.9978  3.51       0.56   \n",
       "\n",
       "   alcohol  quality  \n",
       "0      9.4        5  \n",
       "1      9.8        5  \n",
       "2      9.8        5  \n",
       "3      9.8        6  \n",
       "4      9.4        5  "
      ]
     },
     "execution_count": 2,
     "metadata": {},
     "output_type": "execute_result"
    }
   ],
   "source": [
    "# Load data\n",
    "\n",
    "df = pd.read_csv('data/Wine-quality-challenge.csv')\n",
    "df.head()"
   ]
  },
  {
   "cell_type": "code",
   "execution_count": 3,
   "id": "5c34c464-557b-4771-b245-bea2448f4ebc",
   "metadata": {},
   "outputs": [
    {
     "data": {
      "text/plain": [
       "<Axes: ylabel='Density'>"
      ]
     },
     "execution_count": 3,
     "metadata": {},
     "output_type": "execute_result"
    },
    {
     "data": {
      "image/png": "[encoded data removed]",
      "text/plain": [
       "<Figure size 640x480 with 1 Axes>"
      ]
     },
     "metadata": {},
     "output_type": "display_data"
    }
   ],
   "source": [
    "# Normal Distribution\n",
    "\n",
    "## Density Plot of Chlorides\n",
    "\n",
    "df.chlorides.plot.density()"
   ]
  },
  {
   "cell_type": "code",
   "execution_count": 4,
   "id": "0ed68438-02fc-401e-9583-af25e0fb03e8",
   "metadata": {},
   "outputs": [],
   "source": [
    "# Check the number of observations within X standard deviations \n",
    "\n",
    "def find_percentage_dist(data,column,deviation_no):\n",
    "    print(data.loc[(data[column] <= data[column].mean() + deviation_no * data[column].std()) &\n",
    "             (data[column] >= data[column].mean() - deviation_no * data[column].std())][column].count() / data[column].count())"
   ]
  },
  {
   "cell_type": "code",
   "execution_count": 5,
   "id": "6f73cd3b-1ecf-44c0-bfdc-f7efcc718398",
   "metadata": {},
   "outputs": [
    {
     "name": "stdout",
     "output_type": "stream",
     "text": [
      "0.9480925578486554\n"
     ]
    }
   ],
   "source": [
    "find_percentage_dist(df,\"chlorides\",1)"
   ]
  },
  {
   "cell_type": "code",
   "execution_count": 6,
   "id": "10fb7cd7-e19e-49e3-8179-a1da43744fa9",
   "metadata": {},
   "outputs": [
    {
     "name": "stdout",
     "output_type": "stream",
     "text": [
      "0.9718574108818011\n"
     ]
    }
   ],
   "source": [
    "find_percentage_dist(df,\"chlorides\",2)"
   ]
  },
  {
   "cell_type": "code",
   "execution_count": 7,
   "id": "4a8a64c2-4a74-4c4a-85ed-ee0188d74264",
   "metadata": {},
   "outputs": [
    {
     "name": "stdout",
     "output_type": "stream",
     "text": [
      "0.9806128830519074\n"
     ]
    }
   ],
   "source": [
    "find_percentage_dist(df,\"chlorides\",3)"
   ]
  },
  {
   "cell_type": "code",
   "execution_count": 8,
   "id": "6b65f8ed-9a29-4fe1-a85f-16689a9468a0",
   "metadata": {},
   "outputs": [
    {
     "name": "stdout",
     "output_type": "stream",
     "text": [
      "0.7035647279549718\n"
     ]
    }
   ],
   "source": [
    "find_percentage_dist(df,\"alcohol\",1)"
   ]
  },
  {
   "cell_type": "code",
   "execution_count": 9,
   "id": "cf8b854e-38c9-4d02-b989-61245e7fae4f",
   "metadata": {},
   "outputs": [
    {
     "name": "stdout",
     "output_type": "stream",
     "text": [
      "0.9562226391494684\n"
     ]
    }
   ],
   "source": [
    "find_percentage_dist(df,\"alcohol\",2)"
   ]
  },
  {
   "cell_type": "code",
   "execution_count": 10,
   "id": "c2a3cf08-b3fb-43c4-8635-89ec9d77c515",
   "metadata": {},
   "outputs": [
    {
     "name": "stdout",
     "output_type": "stream",
     "text": [
      "0.9949968730456535\n"
     ]
    }
   ],
   "source": [
    "find_percentage_dist(df,\"alcohol\",3)"
   ]
  },
  {
   "cell_type": "markdown",
   "id": "5b4de8ed-21ba-4356-9efd-77b9f69bf3a2",
   "metadata": {},
   "source": [
    "#### Shapiro Wilks Test"
   ]
  },
  {
   "cell_type": "code",
   "execution_count": 11,
   "id": "dbbd70b8-f38a-4c7b-ae37-1943da2803ea",
   "metadata": {},
   "outputs": [
    {
     "data": {
      "text/plain": [
       "ShapiroResult(statistic=0.4842468500137329, pvalue=0.0)"
      ]
     },
     "execution_count": 11,
     "metadata": {},
     "output_type": "execute_result"
    }
   ],
   "source": [
    "# check if data comes from Gaussian Distribution\n",
    "\n",
    "st.shapiro(df.chlorides)"
   ]
  },
  {
   "cell_type": "code",
   "execution_count": 12,
   "id": "3578f854-53ec-406d-be5f-52aaaaa4939e",
   "metadata": {},
   "outputs": [
    {
     "name": "stdout",
     "output_type": "stream",
     "text": [
      "Sample doesn't look Gaussian\n"
     ]
    }
   ],
   "source": [
    "stat,p = st.shapiro(df.alcohol)\n",
    "\n",
    "if p > 0.05:\n",
    "    print(\"Sample looks Gaussian\")\n",
    "else:\n",
    "    print(\"Sample doesn't look Gaussian\")"
   ]
  },
  {
   "cell_type": "code",
   "execution_count": 13,
   "id": "68712bed-1b88-441d-89f9-f176a316a688",
   "metadata": {},
   "outputs": [
    {
     "data": {
      "text/plain": [
       "6.63998167657323e-27"
      ]
     },
     "execution_count": 13,
     "metadata": {},
     "output_type": "execute_result"
    }
   ],
   "source": [
    "p"
   ]
  },
  {
   "cell_type": "code",
   "execution_count": 14,
   "id": "fa8fd1ed-bc49-4bfb-8940-7a2fb9cc36ae",
   "metadata": {},
   "outputs": [
    {
     "name": "stdout",
     "output_type": "stream",
     "text": [
      "Sample doesn't look Gaussian\n"
     ]
    }
   ],
   "source": [
    "stat,p = st.shapiro(df.sulphates)\n",
    "\n",
    "if p > 0.05:\n",
    "    print(\"Sample looks Gaussian\")\n",
    "else:\n",
    "    print(\"Sample doesn't look Gaussian\")"
   ]
  },
  {
   "cell_type": "markdown",
   "id": "fa8865d9-0523-459b-8e3c-7b74cf269465",
   "metadata": {},
   "source": [
    "#### Standard Error (of sample mean)"
   ]
  },
  {
   "cell_type": "code",
   "execution_count": 15,
   "id": "68e9db1e-df58-47a4-adae-de96faec0212",
   "metadata": {},
   "outputs": [
    {
     "data": {
      "text/plain": [
       "0.026650018979018173"
      ]
     },
     "execution_count": 15,
     "metadata": {},
     "output_type": "execute_result"
    }
   ],
   "source": [
    "# how far the sample mean is likely to be from the population mean\n",
    "\n",
    "st.sem(df.alcohol)"
   ]
  },
  {
   "cell_type": "code",
   "execution_count": 16,
   "id": "28de57bc-a1b0-4e64-b24a-51e5f8101473",
   "metadata": {},
   "outputs": [
    {
     "data": {
      "text/plain": [
       "0.026650018979018173"
      ]
     },
     "execution_count": 16,
     "metadata": {},
     "output_type": "execute_result"
    }
   ],
   "source": [
    "# manual calc\n",
    "\n",
    "df.alcohol.std() / m.sqrt(df.alcohol.count())"
   ]
  },
  {
   "cell_type": "code",
   "execution_count": 17,
   "id": "aa88a503-500f-4b12-8938-e02864004ff6",
   "metadata": {},
   "outputs": [
    {
     "data": {
      "text/plain": [
       "0.0038608683325203784"
      ]
     },
     "execution_count": 17,
     "metadata": {},
     "output_type": "execute_result"
    }
   ],
   "source": [
    "st.sem(df.pH)"
   ]
  },
  {
   "cell_type": "markdown",
   "id": "b7c0d8b4-2820-43ca-8cb3-39240bc66d38",
   "metadata": {},
   "source": [
    "#### Confidence Interval"
   ]
  },
  {
   "cell_type": "code",
   "execution_count": 18,
   "id": "fbb87988-e488-4888-89f5-e30e322cd08b",
   "metadata": {},
   "outputs": [
    {
     "data": {
      "text/plain": [
       "(array([0.26142755]), array([0.28052367]))"
      ]
     },
     "execution_count": 18,
     "metadata": {},
     "output_type": "execute_result"
    }
   ],
   "source": [
    "# Confidence interval of the mean\n",
    "\n",
    "st.norm.interval(confidence=0.95, loc= df[['citric acid']].mean(), scale = st.sem(df[['citric acid']]))"
   ]
  },
  {
   "cell_type": "code",
   "execution_count": 19,
   "id": "cba7a461-bd5b-4547-81fe-70c2718e6690",
   "metadata": {},
   "outputs": [
    {
     "data": {
      "text/plain": [
       "array([[<Axes: title={'center': 'citric acid'}>]], dtype=object)"
      ]
     },
     "execution_count": 19,
     "metadata": {},
     "output_type": "execute_result"
    },
    {
     "data": {
      "image/png": "[encoded data removed]",
      "text/plain": [
       "<Figure size 640x480 with 1 Axes>"
      ]
     },
     "metadata": {},
     "output_type": "display_data"
    }
   ],
   "source": [
    "# Histogram\n",
    "\n",
    "df[['citric acid']].hist()"
   ]
  },
  {
   "cell_type": "code",
   "execution_count": 20,
   "id": "dda9eb44-9a48-4487-b432-25e619a7e108",
   "metadata": {},
   "outputs": [
    {
     "data": {
      "text/plain": [
       "(array([0.99665417]), array([0.99683919]))"
      ]
     },
     "execution_count": 20,
     "metadata": {},
     "output_type": "execute_result"
    }
   ],
   "source": [
    "st.norm.interval(confidence=0.95, loc= df[['density']].mean(), scale = st.sem(df[['density']]))"
   ]
  },
  {
   "cell_type": "code",
   "execution_count": 21,
   "id": "c636a5ef-e54f-4373-a60d-a308c72b3463",
   "metadata": {},
   "outputs": [
    {
     "data": {
      "text/plain": [
       "<Axes: >"
      ]
     },
     "execution_count": 21,
     "metadata": {},
     "output_type": "execute_result"
    },
    {
     "data": {
      "image/png": "[encoded data removed]",
      "text/plain": [
       "<Figure size 640x480 with 1 Axes>"
      ]
     },
     "metadata": {},
     "output_type": "display_data"
    }
   ],
   "source": [
    "df.density.hist()"
   ]
  },
  {
   "cell_type": "markdown",
   "id": "5732dc12-d890-44d2-bbb9-97bf27e147b8",
   "metadata": {},
   "source": [
    "#### T-Test"
   ]
  },
  {
   "cell_type": "code",
   "execution_count": 22,
   "id": "82ff0a7c-827d-49a0-9167-34f2b5dc978c",
   "metadata": {},
   "outputs": [
    {
     "data": {
      "text/html": [
       "<div>\n",
       "<style scoped>\n",
       "    .dataframe tbody tr th:only-of-type {\n",
       "        vertical-align: middle;\n",
       "    }\n",
       "\n",
       "    .dataframe tbody tr th {\n",
       "        vertical-align: top;\n",
       "    }\n",
       "\n",
       "    .dataframe thead th {\n",
       "        text-align: right;\n",
       "    }\n",
       "</style>\n",
       "<table border=\"1\" class=\"dataframe\">\n",
       "  <thead>\n",
       "    <tr style=\"text-align: right;\">\n",
       "      <th></th>\n",
       "      <th>Country</th>\n",
       "      <th>Salary</th>\n",
       "      <th>YearsCodedJob</th>\n",
       "      <th>OpenSource</th>\n",
       "      <th>Hobby</th>\n",
       "      <th>CompanySizeNumber</th>\n",
       "      <th>Remote</th>\n",
       "      <th>CareerSatisfaction</th>\n",
       "      <th>Data_scientist</th>\n",
       "      <th>Database_administrator</th>\n",
       "      <th>...</th>\n",
       "      <th>Developer_with_stats_math_background</th>\n",
       "      <th>DevOps</th>\n",
       "      <th>Embedded_developer</th>\n",
       "      <th>Graphic_designer</th>\n",
       "      <th>Graphics_programming</th>\n",
       "      <th>Machine_learning_specialist</th>\n",
       "      <th>Mobile_developer</th>\n",
       "      <th>Quality_assurance_engineer</th>\n",
       "      <th>Systems_administrator</th>\n",
       "      <th>Web_developer</th>\n",
       "    </tr>\n",
       "  </thead>\n",
       "  <tbody>\n",
       "    <tr>\n",
       "      <th>0</th>\n",
       "      <td>United Kingdom</td>\n",
       "      <td>100000.000000</td>\n",
       "      <td>20</td>\n",
       "      <td>0</td>\n",
       "      <td>1</td>\n",
       "      <td>5000</td>\n",
       "      <td>Remote</td>\n",
       "      <td>8</td>\n",
       "      <td>0</td>\n",
       "      <td>0</td>\n",
       "      <td>...</td>\n",
       "      <td>0</td>\n",
       "      <td>0</td>\n",
       "      <td>1</td>\n",
       "      <td>0</td>\n",
       "      <td>0</td>\n",
       "      <td>0</td>\n",
       "      <td>0</td>\n",
       "      <td>0</td>\n",
       "      <td>0</td>\n",
       "      <td>0</td>\n",
       "    </tr>\n",
       "    <tr>\n",
       "      <th>1</th>\n",
       "      <td>United States</td>\n",
       "      <td>130000.000000</td>\n",
       "      <td>20</td>\n",
       "      <td>1</td>\n",
       "      <td>1</td>\n",
       "      <td>1000</td>\n",
       "      <td>Remote</td>\n",
       "      <td>9</td>\n",
       "      <td>0</td>\n",
       "      <td>0</td>\n",
       "      <td>...</td>\n",
       "      <td>0</td>\n",
       "      <td>1</td>\n",
       "      <td>1</td>\n",
       "      <td>0</td>\n",
       "      <td>0</td>\n",
       "      <td>0</td>\n",
       "      <td>0</td>\n",
       "      <td>1</td>\n",
       "      <td>0</td>\n",
       "      <td>1</td>\n",
       "    </tr>\n",
       "    <tr>\n",
       "      <th>2</th>\n",
       "      <td>United States</td>\n",
       "      <td>175000.000000</td>\n",
       "      <td>16</td>\n",
       "      <td>0</td>\n",
       "      <td>1</td>\n",
       "      <td>10000</td>\n",
       "      <td>Not remote</td>\n",
       "      <td>7</td>\n",
       "      <td>0</td>\n",
       "      <td>0</td>\n",
       "      <td>...</td>\n",
       "      <td>0</td>\n",
       "      <td>0</td>\n",
       "      <td>0</td>\n",
       "      <td>0</td>\n",
       "      <td>0</td>\n",
       "      <td>0</td>\n",
       "      <td>0</td>\n",
       "      <td>0</td>\n",
       "      <td>0</td>\n",
       "      <td>1</td>\n",
       "    </tr>\n",
       "    <tr>\n",
       "      <th>3</th>\n",
       "      <td>Germany</td>\n",
       "      <td>64516.129030</td>\n",
       "      <td>4</td>\n",
       "      <td>0</td>\n",
       "      <td>0</td>\n",
       "      <td>1000</td>\n",
       "      <td>Not remote</td>\n",
       "      <td>9</td>\n",
       "      <td>0</td>\n",
       "      <td>0</td>\n",
       "      <td>...</td>\n",
       "      <td>0</td>\n",
       "      <td>0</td>\n",
       "      <td>0</td>\n",
       "      <td>0</td>\n",
       "      <td>0</td>\n",
       "      <td>0</td>\n",
       "      <td>0</td>\n",
       "      <td>0</td>\n",
       "      <td>0</td>\n",
       "      <td>1</td>\n",
       "    </tr>\n",
       "    <tr>\n",
       "      <th>4</th>\n",
       "      <td>India</td>\n",
       "      <td>6636.323594</td>\n",
       "      <td>1</td>\n",
       "      <td>0</td>\n",
       "      <td>1</td>\n",
       "      <td>5000</td>\n",
       "      <td>Not remote</td>\n",
       "      <td>5</td>\n",
       "      <td>0</td>\n",
       "      <td>0</td>\n",
       "      <td>...</td>\n",
       "      <td>0</td>\n",
       "      <td>0</td>\n",
       "      <td>0</td>\n",
       "      <td>0</td>\n",
       "      <td>0</td>\n",
       "      <td>0</td>\n",
       "      <td>0</td>\n",
       "      <td>0</td>\n",
       "      <td>0</td>\n",
       "      <td>1</td>\n",
       "    </tr>\n",
       "  </tbody>\n",
       "</table>\n",
       "<p>5 rows × 21 columns</p>\n",
       "</div>"
      ],
      "text/plain": [
       "          Country         Salary  YearsCodedJob  OpenSource  Hobby   \n",
       "0  United Kingdom  100000.000000             20           0      1  \\\n",
       "1   United States  130000.000000             20           1      1   \n",
       "2   United States  175000.000000             16           0      1   \n",
       "3         Germany   64516.129030              4           0      0   \n",
       "4           India    6636.323594              1           0      1   \n",
       "\n",
       "   CompanySizeNumber      Remote  CareerSatisfaction  Data_scientist   \n",
       "0               5000      Remote                   8               0  \\\n",
       "1               1000      Remote                   9               0   \n",
       "2              10000  Not remote                   7               0   \n",
       "3               1000  Not remote                   9               0   \n",
       "4               5000  Not remote                   5               0   \n",
       "\n",
       "   Database_administrator  ...  Developer_with_stats_math_background  DevOps   \n",
       "0                       0  ...                                     0       0  \\\n",
       "1                       0  ...                                     0       1   \n",
       "2                       0  ...                                     0       0   \n",
       "3                       0  ...                                     0       0   \n",
       "4                       0  ...                                     0       0   \n",
       "\n",
       "   Embedded_developer  Graphic_designer  Graphics_programming   \n",
       "0                   1                 0                     0  \\\n",
       "1                   1                 0                     0   \n",
       "2                   0                 0                     0   \n",
       "3                   0                 0                     0   \n",
       "4                   0                 0                     0   \n",
       "\n",
       "   Machine_learning_specialist  Mobile_developer  Quality_assurance_engineer   \n",
       "0                            0                 0                           0  \\\n",
       "1                            0                 0                           1   \n",
       "2                            0                 0                           0   \n",
       "3                            0                 0                           0   \n",
       "4                            0                 0                           0   \n",
       "\n",
       "   Systems_administrator  Web_developer  \n",
       "0                      0              0  \n",
       "1                      0              1  \n",
       "2                      0              1  \n",
       "3                      0              1  \n",
       "4                      0              1  \n",
       "\n",
       "[5 rows x 21 columns]"
      ]
     },
     "execution_count": 22,
     "metadata": {},
     "output_type": "execute_result"
    }
   ],
   "source": [
    "# Helps us understnad whether one group is different from the other\n",
    "\n",
    "# If p-value is less than 0.05, then the groups are statistically different\n",
    "\n",
    "data = pd.read_csv('data/stackoverflow.csv')\n",
    "data.head()"
   ]
  },
  {
   "cell_type": "code",
   "execution_count": 23,
   "id": "0bfdeb71-56d2-4412-afac-a11e5d823a3b",
   "metadata": {},
   "outputs": [],
   "source": [
    "salary_uk = data.loc[data.Country == 'United Kingdom'].Salary\n",
    "salary_de = data.loc[data.Country == 'Germany'].Salary"
   ]
  },
  {
   "cell_type": "code",
   "execution_count": 24,
   "id": "be187fbe-681d-40a5-b8e0-c82bd9516227",
   "metadata": {},
   "outputs": [],
   "source": [
    "stat, p = st.ttest_ind(a = salary_uk, b= salary_de)"
   ]
  },
  {
   "cell_type": "code",
   "execution_count": 25,
   "id": "a96f2cae-9683-49ad-ab45-47b17d1361bf",
   "metadata": {},
   "outputs": [
    {
     "name": "stdout",
     "output_type": "stream",
     "text": [
      "0.026389999555203502\n"
     ]
    }
   ],
   "source": [
    "print(p)"
   ]
  },
  {
   "cell_type": "markdown",
   "id": "cf8fe0fb-338c-460e-b1d2-42cb2a5bfb30",
   "metadata": {},
   "source": [
    "#### Chi-Square test"
   ]
  },
  {
   "cell_type": "code",
   "execution_count": 26,
   "id": "5c26c6ee-2eba-499a-a766-1aee57eda113",
   "metadata": {},
   "outputs": [
    {
     "data": {
      "text/html": [
       "<div>\n",
       "<style scoped>\n",
       "    .dataframe tbody tr th:only-of-type {\n",
       "        vertical-align: middle;\n",
       "    }\n",
       "\n",
       "    .dataframe tbody tr th {\n",
       "        vertical-align: top;\n",
       "    }\n",
       "\n",
       "    .dataframe thead th {\n",
       "        text-align: right;\n",
       "    }\n",
       "</style>\n",
       "<table border=\"1\" class=\"dataframe\">\n",
       "  <thead>\n",
       "    <tr style=\"text-align: right;\">\n",
       "      <th>Remote</th>\n",
       "      <th>Not remote</th>\n",
       "      <th>Remote</th>\n",
       "    </tr>\n",
       "    <tr>\n",
       "      <th>Country</th>\n",
       "      <th></th>\n",
       "      <th></th>\n",
       "    </tr>\n",
       "  </thead>\n",
       "  <tbody>\n",
       "    <tr>\n",
       "      <th>Canada</th>\n",
       "      <td>457</td>\n",
       "      <td>28</td>\n",
       "    </tr>\n",
       "    <tr>\n",
       "      <th>Germany</th>\n",
       "      <td>717</td>\n",
       "      <td>40</td>\n",
       "    </tr>\n",
       "    <tr>\n",
       "      <th>India</th>\n",
       "      <td>482</td>\n",
       "      <td>56</td>\n",
       "    </tr>\n",
       "    <tr>\n",
       "      <th>United Kingdom</th>\n",
       "      <td>953</td>\n",
       "      <td>70</td>\n",
       "    </tr>\n",
       "    <tr>\n",
       "      <th>United States</th>\n",
       "      <td>2410</td>\n",
       "      <td>381</td>\n",
       "    </tr>\n",
       "  </tbody>\n",
       "</table>\n",
       "</div>"
      ],
      "text/plain": [
       "Remote          Not remote  Remote\n",
       "Country                           \n",
       "Canada                 457      28\n",
       "Germany                717      40\n",
       "India                  482      56\n",
       "United Kingdom         953      70\n",
       "United States         2410     381"
      ]
     },
     "execution_count": 26,
     "metadata": {},
     "output_type": "execute_result"
    }
   ],
   "source": [
    "# this is for non-continuous variables. Determine whether there is a statistically significant difference between the expected frequencies and the observed frequencies\n",
    "\n",
    "# null hypothesis: there is no relationship between variables\n",
    "\n",
    "\n",
    "\n",
    "# cross tabulation\n",
    "\n",
    "tab = pd.crosstab(index = data.Country, columns=data.Remote)\n",
    "tab\n"
   ]
  },
  {
   "cell_type": "code",
   "execution_count": 27,
   "id": "828c050c-5923-4cfb-93e7-fdd1179019a5",
   "metadata": {},
   "outputs": [],
   "source": [
    "chi2,p,dof,exp = st.chi2_contingency(tab)"
   ]
  },
  {
   "cell_type": "code",
   "execution_count": 28,
   "id": "63c7dfc5-6c2b-486b-bd3d-bf454ac77f11",
   "metadata": {},
   "outputs": [
    {
     "data": {
      "text/plain": [
       "3.321120877301216e-16"
      ]
     },
     "execution_count": 28,
     "metadata": {},
     "output_type": "execute_result"
    }
   ],
   "source": [
    "p"
   ]
  },
  {
   "cell_type": "code",
   "execution_count": null,
   "id": "414a1968-32e5-4e04-9bf5-2fec92a8d5b3",
   "metadata": {},
   "outputs": [],
   "source": []
  }
 ],
 "metadata": {
  "kernelspec": {
   "display_name": "Python 3 (ipykernel)",
   "language": "python",
   "name": "python3"
  },
  "language_info": {
   "codemirror_mode": {
    "name": "ipython",
    "version": 3
   },
   "file_extension": ".py",
   "mimetype": "text/x-python",
   "name": "python",
   "nbconvert_exporter": "python",
   "pygments_lexer": "ipython3",
   "version": "3.10.7"
  }
 },
 "nbformat": 4,
 "nbformat_minor": 5
}
